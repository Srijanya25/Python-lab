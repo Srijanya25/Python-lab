{
 "cells": [
  {
   "cell_type": "markdown",
   "id": "a987ee32",
   "metadata": {},
   "source": [
    "## Experiment No.1"
   ]
  },
  {
   "cell_type": "markdown",
   "id": "929619ad",
   "metadata": {},
   "source": [
    "## Develop a python program to read n digit integer number and display each digit."
   ]
  },
  {
   "cell_type": "code",
   "execution_count": 8,
   "id": "9733630d",
   "metadata": {},
   "outputs": [
    {
     "name": "stdout",
     "output_type": "stream",
     "text": [
      "Enter the digit:3\n",
      "Enter a 3-digit integer123\n",
      "1\n",
      "2\n",
      "3\n"
     ]
    }
   ],
   "source": [
    "n=int(input(\"Enter the digit:\"))\n",
    "if n>0:\n",
    "    number=int(input(f\"Enter a {n}-digit integer\"))\n",
    "    if number>=10**(n-1)and number<10**n:\n",
    "        for i in range(n):\n",
    "            digit=number//(10**(n-1))\n",
    "            print(digit) \n",
    "            number %=10**(n-1)\n",
    "            n-=1\n",
    "    else:\n",
    "        print(f\"Please enter a{n}-digit integer\")\n",
    "else:\n",
    "    print(\"Please enter a valid number of digits(greater than zero)\")"
   ]
  },
  {
   "cell_type": "markdown",
   "id": "28fc89a4",
   "metadata": {},
   "source": [
    "## 2.Develop the python program to accept 4 numbers and display them in sorted order using a minimum numbers of if else statements."
   ]
  },
  {
   "cell_type": "code",
   "execution_count": 7,
   "id": "bbd5bf15",
   "metadata": {},
   "outputs": [
    {
     "name": "stdout",
     "output_type": "stream",
     "text": [
      "Enter the first number:10\n",
      "Enter the second number:5\n",
      "Enter the third number:7\n",
      "Enter the fourth number:8\n",
      "The sorted numbers are: 5 7 8 10\n"
     ]
    }
   ],
   "source": [
    "a=int(input(\"Enter the first number:\"))\n",
    "b=int(input(\"Enter the second number:\"))\n",
    "c=int(input(\"Enter the third number:\"))\n",
    "d=int(input(\"Enter the fourth number:\"))\n",
    "if a>b:a,b=b,a\n",
    "if c>d:c,d=d,c\n",
    "if a>c:a,c=c,a\n",
    "if b>d:b,d=d,b\n",
    "if b>c:b,c=c,b\n",
    "print(\"The sorted numbers are:\",a,b,c,d)\n"
   ]
  },
  {
   "cell_type": "markdown",
   "id": "18f6aa4f",
   "metadata": {},
   "source": [
    "## 4.Develop a program for checking if a given n digit number is Palindrome or not."
   ]
  },
  {
   "cell_type": "code",
   "execution_count": 5,
   "id": "b35d06a5",
   "metadata": {},
   "outputs": [
    {
     "name": "stdout",
     "output_type": "stream",
     "text": [
      "Enter an n-digit number:135431\n",
      "Not a Palindrome\n"
     ]
    }
   ],
   "source": [
    "number=int(input(\"Enter an n-digit number:\"))\n",
    "original_number=number\n",
    "reversed_number=0\n",
    "while number>0:\n",
    "    digit=number%10\n",
    "    reversed_number=reversed_number*10+digit\n",
    "    number//=10\n",
    "if original_number==reversed_number:\n",
    "    print(\"Palindrome\")\n",
    "else:\n",
    "    print(\"Not a Palindrome\")"
   ]
  },
  {
   "cell_type": "markdown",
   "id": "2cf4aa78",
   "metadata": {},
   "source": [
    "## 5.Develop a python script to display a multiplication table for given integer n."
   ]
  },
  {
   "cell_type": "code",
   "execution_count": 11,
   "id": "07adc460",
   "metadata": {},
   "outputs": [
    {
     "name": "stdout",
     "output_type": "stream",
     "text": [
      "Enter an integer for the multiplication table:5\n",
      "Multiplication table for5:\n",
      "5X1=5\n",
      "5X2=10\n",
      "5X3=15\n",
      "5X4=20\n",
      "5X5=25\n",
      "5X6=30\n",
      "5X7=35\n",
      "5X8=40\n",
      "5X9=45\n",
      "5X10=50\n"
     ]
    }
   ],
   "source": [
    "n=int(input(\"Enter an integer for the multiplication table:\"))\n",
    "print(f\"Multiplication table for{n}:\")\n",
    "for i in range(1,11):\n",
    "    result=n*i\n",
    "    print(f\"{n}X{i}={result}\")"
   ]
  },
  {
   "cell_type": "markdown",
   "id": "4b76ee26",
   "metadata": {},
   "source": [
    "## 3.Develop a python script to mean,median,mode,variance and Standard deviation of n integer number"
   ]
  },
  {
   "cell_type": "code",
   "execution_count": 7,
   "id": "4e771856",
   "metadata": {},
   "outputs": [
    {
     "name": "stdout",
     "output_type": "stream",
     "text": [
      "Enter the number of elements:6\n",
      "Enter number1:3\n",
      "Enter number2:4\n",
      "Enter number3:5\n",
      "Enter number4:6\n",
      "Enter number5:8\n",
      "Enter number6:9\n",
      "Mean:5.833333333333333\n",
      "Median:5.5\n",
      "Mode:No mode\n",
      "Sample variance:5.366666666666667\n",
      "Population variance:4.472222222222222\n",
      "Sample standard deviation:2.316606713852541\n",
      "Population standard deviation:2.1147629234082532\n"
     ]
    }
   ],
   "source": [
    "n=int(input(\"Enter the number of elements:\"))\n",
    "numbers=[int(input(f\"Enter number{i+1}:\"))for i in range(n)]\n",
    "mean=sum(numbers)/n\n",
    "numbers.sort()\n",
    "if n%2==0:\n",
    "    median=(numbers[n//2-1]+numbers[n//2])/2\n",
    "else:\n",
    "    median=numbers[n//2]\n",
    "frequency={num:numbers.count(num)for num in numbers}\n",
    "max_count=max(frequency.values())\n",
    "mode=[k for k,V in frequency.items() if V==max_count]\n",
    "if len(mode)==n:\n",
    "    mode=\"No mode\"\n",
    "mean_difference_squared_sum=sum((x-mean)**2 for x in numbers)\n",
    "variance_sample=mean_difference_squared_sum/(n-1)if n>1 else 0\n",
    "variance_population=mean_difference_squared_sum/n\n",
    "std_deviation_sample=variance_sample**0.5\n",
    "std_deviation_population=variance_population**0.5\n",
    "print(f\"Mean:{mean}\")\n",
    "print(f\"Median:{median}\")\n",
    "print(f\"Mode:{mode}\")\n",
    "print(f\"Sample variance:{variance_sample}\")\n",
    "print(f\"Population variance:{variance_population}\")\n",
    "print(f\"Sample standard deviation:{std_deviation_sample}\")\n",
    "print(f\"Population standard deviation:{std_deviation_population}\")"
   ]
  },
  {
   "cell_type": "markdown",
   "id": "d1e686fd",
   "metadata": {},
   "source": [
    "## 6.Develop a python script to rotate right about a given position in that list and display them."
   ]
  },
  {
   "cell_type": "code",
   "execution_count": 1,
   "id": "b1caef64",
   "metadata": {},
   "outputs": [
    {
     "name": "stdout",
     "output_type": "stream",
     "text": [
      "Enter the integer number253\n",
      "The reverse number is:352\n"
     ]
    }
   ],
   "source": [
    "number=int(input(\"Enter the integer number\"))\n",
    "revs_number=0\n",
    "while(number>0):\n",
    "    remainder=number%10\n",
    "    revs_number=(revs_number*10)+remainder\n",
    "    number=number//10\n",
    "print(\"The reverse number is:{}\".format(revs_number))"
   ]
  },
  {
   "cell_type": "markdown",
   "id": "07bebb69",
   "metadata": {},
   "source": [
    "## 7.Develop a python script to interchange the digits of given integer number."
   ]
  },
  {
   "cell_type": "code",
   "execution_count": 1,
   "id": "2b6cba96",
   "metadata": {},
   "outputs": [
    {
     "name": "stdout",
     "output_type": "stream",
     "text": [
      "Enter the user input:253\n",
      "Enter the 1st position which you want to swap:1\n",
      "Enter the 2nd position which you want to swap:3\n",
      "Original number: 253\n",
      "Interchanged number: 352\n"
     ]
    }
   ],
   "source": [
    "def interchange_digits(number,pos1,pos2):\n",
    "    number_str=str(number)\n",
    "    number_list=list(number_str)\n",
    "    number_list[pos1-1],number_list[pos2-1]=number_list[pos2-1],number_list[pos1-1]\n",
    "    interchanged_number=int(''.join(number_list))\n",
    "    return interchanged_number\n",
    "number=int(input('Enter the user input:'))\n",
    "pos1=int(input('Enter the 1st position which you want to swap:'))\n",
    "pos2=int(input('Enter the 2nd position which you want to swap:'))\n",
    "interchanged_number=interchange_digits(number,pos1,pos2)\n",
    "print(\"Original number:\",number)\n",
    "print(\"Interchanged number:\",interchanged_number)\n",
    "\n",
    "                            "
   ]
  },
  {
   "cell_type": "markdown",
   "id": "73b0031f",
   "metadata": {},
   "source": [
    "## 8.Develop a python program to capitalize a given list of strings."
   ]
  },
  {
   "cell_type": "code",
   "execution_count": 14,
   "id": "cce68b63",
   "metadata": {},
   "outputs": [
    {
     "name": "stdout",
     "output_type": "stream",
     "text": [
      "['Hello', 'Good', 'How', 'Simple']\n"
     ]
    }
   ],
   "source": [
    "def capitalize_strings(string_list):\n",
    "    return[s.capitalize()for s in string_list]\n",
    "input_strings=['hello','good','how','simple']\n",
    "capitalized_strings=capitalize_strings(input_strings)\n",
    "print(capitalized_strings)"
   ]
  },
  {
   "cell_type": "markdown",
   "id": "1d492130",
   "metadata": {},
   "source": [
    "## 9.Using a dictionary develop a python program to determine amd print the number of duplicate words in the sentence"
   ]
  },
  {
   "cell_type": "code",
   "execution_count": 1,
   "id": "048ce526",
   "metadata": {},
   "outputs": [
    {
     "name": "stdout",
     "output_type": "stream",
     "text": [
      "Enter a sentence:struggle struggles the struggle don't struggle the struggle if you struggle the struggle struggle struggles you\n",
      "Duplicate words and their counts:\n",
      "struggle:7\n",
      "struggles:2\n",
      "the:3\n",
      "you:2\n"
     ]
    }
   ],
   "source": [
    "def count_duplicate_words(sentence):\n",
    "    words=sentence.split()\n",
    "    word_count={}\n",
    "    for word in words:\n",
    "        word=word.lower()\n",
    "        if word in word_count:\n",
    "            word_count[word]+=1\n",
    "        else:\n",
    "            word_count[word]=1\n",
    "    duplicates={word:count for word,count in word_count.items()if count>1}\n",
    "    if duplicates:\n",
    "        print(\"Duplicate words and their counts:\")\n",
    "        for word,count in duplicates.items():\n",
    "            print(f\"{word}:{count}\")\n",
    "    else:\n",
    "        print(\"No duplicate words found\")\n",
    "sentence=input('Enter a sentence:')\n",
    "count_duplicate_words(sentence)"
   ]
  },
  {
   "cell_type": "markdown",
   "id": "f0086ad3",
   "metadata": {},
   "source": [
    "## 10 Develop a python program to read numpy array and print row(sum,mean,std)and column(sum,mean,std)."
   ]
  },
  {
   "cell_type": "code",
   "execution_count": 1,
   "id": "b1b289ad",
   "metadata": {},
   "outputs": [
    {
     "name": "stdout",
     "output_type": "stream",
     "text": [
      "Numpy array\n",
      "[[1 2 3]\n",
      " [4 5 6]]\n",
      "---------------\n",
      "Row sum\n",
      "[ 6 15]\n",
      "Column sum\n",
      "[5 7 9]\n",
      "---------------\n",
      "Row mean\n",
      "[2. 5.]\n",
      "Column mean\n",
      "[2.5 3.5 4.5]\n",
      "---------------\n",
      "Row STD\n",
      "[0.81649658 0.81649658]\n",
      "column STD\n",
      "[1.5 1.5 1.5]\n"
     ]
    }
   ],
   "source": [
    "from numpy import asarray\n",
    "data=[[1,2,3],[4,5,6]]\n",
    "data=asarray(data)\n",
    "print(\"Numpy array\")\n",
    "print(data)\n",
    "print(\"---------------\")\n",
    "totalr=data.sum(axis=1)\n",
    "totalc=data.sum(axis=0)\n",
    "print(\"Row sum\")\n",
    "print(totalr)\n",
    "print(\"Column sum\")\n",
    "print(totalc)\n",
    "print(\"---------------\")\n",
    "meanr=data.mean(axis=1)\n",
    "meanc=data.mean(axis=0)\n",
    "print(\"Row mean\")\n",
    "print(meanr)\n",
    "print(\"Column mean\")\n",
    "print(meanc)\n",
    "print(\"---------------\")\n",
    "stdr=data.std(axis=1)\n",
    "stdc=data.std(axis=0)\n",
    "print(\"Row STD\")\n",
    "print(stdr)\n",
    "print(\"column STD\")\n",
    "print(stdc)\n"
   ]
  },
  {
   "cell_type": "markdown",
   "id": "d9079260",
   "metadata": {},
   "source": [
    "## 11.Develop a python program to read and print in the console CSV file."
   ]
  },
  {
   "cell_type": "code",
   "execution_count": 6,
   "id": "47c1fafa",
   "metadata": {
    "scrolled": false
   },
   "outputs": [
    {
     "name": "stdout",
     "output_type": "stream",
     "text": [
      "Column names are name,department,birthday_month\n",
      "\tsmith works in the accounting department,and was born in november.\n",
      "\terica works in the IT department,and was born in march.\n",
      "\tjohn works in the HR department,and was born in april.\n",
      "Processed 4 lines.\n"
     ]
    }
   ],
   "source": [
    "import csv\n",
    "file=open('employeee.csv',mode='r')\n",
    "csv_reader=csv.reader(file,delimiter=',')\n",
    "line_count=0\n",
    "for row in csv_reader:\n",
    "    if line_count==0:\n",
    "        print(f'Column names are {\",\".join(row)}')\n",
    "        line_count+=1\n",
    "    else:\n",
    "        print(f'\\t{row[0]} works in the {row[1]} department,and was born in {row[2]}.')\n",
    "        line_count+=1\n",
    "print(f'Processed {line_count} lines.')\n",
    "file.close()"
   ]
  },
  {
   "cell_type": "markdown",
   "id": "61b5161c",
   "metadata": {},
   "source": [
    "## 12.Develop a python program to read a HTML file with a basic tags and construct a dictionary and display the same in the console."
   ]
  },
  {
   "cell_type": "code",
   "execution_count": 12,
   "id": "b02e841e",
   "metadata": {},
   "outputs": [
    {
     "name": "stdout",
     "output_type": "stream",
     "text": [
      "{'Table_1': {'Name': ['Mahima', 'Srijanya'], 'Age': [18, 18]}, 'Table_2': {'Country': ['India', 'America'], 'Capital': ['Delhi', 'Washington']}}\n"
     ]
    }
   ],
   "source": [
    "import pandas as pd\n",
    "def read_html_to_dict(html_file):\n",
    "    tables=pd.read_html(html_file)\n",
    "    tables_dict={}\n",
    "    for i,table in enumerate(tables):\n",
    "        table_dict=table.to_dict(orient='list')\n",
    "        tables_dict[f'Table_{i+1}']=table_dict\n",
    "    return tables_dict\n",
    "if __name__=='__main__':\n",
    "    html_file='student.html'\n",
    "    result=read_html_to_dict(html_file)\n",
    "    print(result)"
   ]
  },
  {
   "cell_type": "code",
   "execution_count": null,
   "id": "3477f795",
   "metadata": {},
   "outputs": [],
   "source": []
  },
  {
   "cell_type": "code",
   "execution_count": null,
   "id": "68fea059",
   "metadata": {},
   "outputs": [],
   "source": []
  }
 ],
 "metadata": {
  "kernelspec": {
   "display_name": "Python 3 (ipykernel)",
   "language": "python",
   "name": "python3"
  },
  "language_info": {
   "codemirror_mode": {
    "name": "ipython",
    "version": 3
   },
   "file_extension": ".py",
   "mimetype": "text/x-python",
   "name": "python",
   "nbconvert_exporter": "python",
   "pygments_lexer": "ipython3",
   "version": "3.10.9"
  }
 },
 "nbformat": 4,
 "nbformat_minor": 5
}
