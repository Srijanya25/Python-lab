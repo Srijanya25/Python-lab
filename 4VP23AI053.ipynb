{
 "cells": [
  {
   "cell_type": "markdown",
   "id": "a987ee32",
   "metadata": {},
   "source": [
    "## Experiment No.1"
   ]
  },
  {
   "cell_type": "markdown",
   "id": "929619ad",
   "metadata": {},
   "source": [
    "## Develop a python program to read n digit integer number and display each digit."
   ]
  },
  {
   "cell_type": "code",
   "execution_count": 8,
   "id": "9733630d",
   "metadata": {},
   "outputs": [
    {
     "name": "stdout",
     "output_type": "stream",
     "text": [
      "Enter the digit:3\n",
      "Enter a 3-digit integer123\n",
      "1\n",
      "2\n",
      "3\n"
     ]
    }
   ],
   "source": [
    "n=int(input(\"Enter the digit:\"))\n",
    "if n>0:\n",
    "    number=int(input(f\"Enter a {n}-digit integer\"))\n",
    "    if number>=10**(n-1)and number<10**n:\n",
    "        for i in range(n):\n",
    "            digit=number//(10**(n-1))\n",
    "            print(digit) \n",
    "            number %=10**(n-1)\n",
    "            n-=1\n",
    "    else:\n",
    "        print(f\"Please enter a{n}-digit integer\")\n",
    "else:\n",
    "    print(\"Please enter a valid number of digits(greater than zero)\")"
   ]
  },
  {
   "cell_type": "markdown",
   "id": "28fc89a4",
   "metadata": {},
   "source": [
    "## 2.Develop the python program to accept 4 numbers and display them in sorted order using a minimum numbers of if else statements."
   ]
  },
  {
   "cell_type": "code",
   "execution_count": 7,
   "id": "bbd5bf15",
   "metadata": {},
   "outputs": [
    {
     "name": "stdout",
     "output_type": "stream",
     "text": [
      "Enter the first number:10\n",
      "Enter the second number:5\n",
      "Enter the third number:7\n",
      "Enter the fourth number:8\n",
      "The sorted numbers are: 5 7 8 10\n"
     ]
    }
   ],
   "source": [
    "a=int(input(\"Enter the first number:\"))\n",
    "b=int(input(\"Enter the second number:\"))\n",
    "c=int(input(\"Enter the third number:\"))\n",
    "d=int(input(\"Enter the fourth number:\"))\n",
    "if a>b:a,b=b,a\n",
    "if c>d:c,d=d,c\n",
    "if a>c:a,c=c,a\n",
    "if b>d:b,d=d,b\n",
    "if b>c:b,c=c,b\n",
    "print(\"The sorted numbers are:\",a,b,c,d)\n"
   ]
  },
  {
   "cell_type": "markdown",
   "id": "18f6aa4f",
   "metadata": {},
   "source": [
    "## 3.Develop a program for checking if a given n digit number is Palindrome or not."
   ]
  },
  {
   "cell_type": "code",
   "execution_count": 5,
   "id": "b35d06a5",
   "metadata": {},
   "outputs": [
    {
     "name": "stdout",
     "output_type": "stream",
     "text": [
      "Enter an n-digit number:135431\n",
      "Not a Palindrome\n"
     ]
    }
   ],
   "source": [
    "number=int(input(\"Enter an n-digit number:\"))\n",
    "original_number=number\n",
    "reversed_number=0\n",
    "while number>0:\n",
    "    digit=number%10\n",
    "    reversed_number=reversed_number*10+digit\n",
    "    number//=10\n",
    "if original_number==reversed_number:\n",
    "    print(\"Palindrome\")\n",
    "else:\n",
    "    print(\"Not a Palindrome\")"
   ]
  },
  {
   "cell_type": "markdown",
   "id": "2cf4aa78",
   "metadata": {},
   "source": [
    "## 4.Develop a python script to display a multiplication table for given integer n."
   ]
  },
  {
   "cell_type": "code",
   "execution_count": 11,
   "id": "07adc460",
   "metadata": {},
   "outputs": [
    {
     "name": "stdout",
     "output_type": "stream",
     "text": [
      "Enter an integer for the multiplication table:5\n",
      "Multiplication table for5:\n",
      "5X1=5\n",
      "5X2=10\n",
      "5X3=15\n",
      "5X4=20\n",
      "5X5=25\n",
      "5X6=30\n",
      "5X7=35\n",
      "5X8=40\n",
      "5X9=45\n",
      "5X10=50\n"
     ]
    }
   ],
   "source": [
    "n=int(input(\"Enter an integer for the multiplication table:\"))\n",
    "print(f\"Multiplication table for{n}:\")\n",
    "for i in range(1,11):\n",
    "    result=n*i\n",
    "    print(f\"{n}X{i}={result}\")"
   ]
  },
  {
   "cell_type": "code",
   "execution_count": null,
   "id": "6f91957c",
   "metadata": {},
   "outputs": [],
   "source": []
  }
 ],
 "metadata": {
  "kernelspec": {
   "display_name": "Python 3 (ipykernel)",
   "language": "python",
   "name": "python3"
  },
  "language_info": {
   "codemirror_mode": {
    "name": "ipython",
    "version": 3
   },
   "file_extension": ".py",
   "mimetype": "text/x-python",
   "name": "python",
   "nbconvert_exporter": "python",
   "pygments_lexer": "ipython3",
   "version": "3.10.9"
  }
 },
 "nbformat": 4,
 "nbformat_minor": 5
}
